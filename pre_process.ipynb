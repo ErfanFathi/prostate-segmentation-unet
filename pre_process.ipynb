{
 "cells": [
  {
   "cell_type": "code",
   "execution_count": 47,
   "metadata": {},
   "outputs": [],
   "source": [
    "import os\n",
    "import nibabel as nib\n",
    "import numpy as np\n",
    "import matplotlib.pyplot as plt\n",
    "\n",
    "def load_nii_files(directory):\n",
    "    # check if the directory exists\n",
    "    if not os.path.exists(directory):\n",
    "        raise Exception('The directory does not exist')\n",
    "\n",
    "    # check if the directory is empty\n",
    "    if not os.listdir(directory):\n",
    "        raise Exception('The directory is empty')\n",
    "\n",
    "    # check if the directory contains 6 subdirectories\n",
    "    subdirectories = ['BIDMC', 'BMC', 'HK', 'I2CVB', 'RUNMC', 'UCL']\n",
    "    if not all([os.path.exists(os.path.join(directory, subdirectory)) for subdirectory in subdirectories]):\n",
    "        raise Exception('The directory does not contain the 6 subdirectories')\n",
    "\n",
    "    # load .nii files from the subdirectories\n",
    "    nii_files = []\n",
    "    for subdirectory in subdirectories:\n",
    "        for file in os.listdir(os.path.join(directory, subdirectory)):\n",
    "            if file.endswith('.nii'):\n",
    "                nii_files.append(os.path.join(directory, subdirectory, file))\n",
    "\n",
    "    # sort the .nii files\n",
    "    nii_files.sort()\n",
    "    \n",
    "    return nii_files"
   ]
  },
  {
   "cell_type": "code",
   "execution_count": 2,
   "metadata": {},
   "outputs": [],
   "source": [
    "# test the function\n",
    "directory = 'Processed_data_nii'\n",
    "nii_files = load_nii_files(directory)"
   ]
  },
  {
   "cell_type": "code",
   "execution_count": 45,
   "metadata": {},
   "outputs": [
    {
     "name": "stdout",
     "output_type": "stream",
     "text": [
      "['Processed_data_nii/BIDMC/Case00.nii', 'Processed_data_nii/BIDMC/Case00_segmentation.nii', 'Processed_data_nii/BIDMC/Case02.nii', 'Processed_data_nii/BIDMC/Case02_segmentation.nii', 'Processed_data_nii/BIDMC/Case03.nii', 'Processed_data_nii/BIDMC/Case03_segmentation.nii', 'Processed_data_nii/BIDMC/Case04.nii', 'Processed_data_nii/BIDMC/Case04_segmentation.nii', 'Processed_data_nii/BIDMC/Case05.nii', 'Processed_data_nii/BIDMC/Case05_segmentation.nii', 'Processed_data_nii/BIDMC/Case06.nii', 'Processed_data_nii/BIDMC/Case06_segmentation.nii', 'Processed_data_nii/BIDMC/Case07.nii', 'Processed_data_nii/BIDMC/Case07_segmentation.nii', 'Processed_data_nii/BIDMC/Case08.nii', 'Processed_data_nii/BIDMC/Case08_segmentation.nii', 'Processed_data_nii/BIDMC/Case09.nii', 'Processed_data_nii/BIDMC/Case09_segmentation.nii', 'Processed_data_nii/BIDMC/Case10.nii', 'Processed_data_nii/BIDMC/Case10_segmentation.nii', 'Processed_data_nii/BIDMC/Case11.nii', 'Processed_data_nii/BIDMC/Case11_segmentation.nii', 'Processed_data_nii/BIDMC/Case12.nii', 'Processed_data_nii/BIDMC/Case12_segmentation.nii', 'Processed_data_nii/BMC/Case00.nii', 'Processed_data_nii/BMC/Case00_Segmentation.nii', 'Processed_data_nii/BMC/Case01.nii', 'Processed_data_nii/BMC/Case01_Segmentation.nii', 'Processed_data_nii/BMC/Case02.nii', 'Processed_data_nii/BMC/Case02_Segmentation.nii', 'Processed_data_nii/BMC/Case03.nii', 'Processed_data_nii/BMC/Case03_Segmentation.nii', 'Processed_data_nii/BMC/Case04.nii', 'Processed_data_nii/BMC/Case04_Segmentation.nii', 'Processed_data_nii/BMC/Case05.nii', 'Processed_data_nii/BMC/Case05_Segmentation.nii', 'Processed_data_nii/BMC/Case06.nii', 'Processed_data_nii/BMC/Case06_Segmentation.nii', 'Processed_data_nii/BMC/Case07.nii', 'Processed_data_nii/BMC/Case07_Segmentation.nii', 'Processed_data_nii/BMC/Case08.nii', 'Processed_data_nii/BMC/Case08_Segmentation.nii', 'Processed_data_nii/BMC/Case09.nii', 'Processed_data_nii/BMC/Case09_Segmentation.nii', 'Processed_data_nii/BMC/Case10.nii', 'Processed_data_nii/BMC/Case10_Segmentation.nii', 'Processed_data_nii/BMC/Case11.nii', 'Processed_data_nii/BMC/Case11_Segmentation.nii', 'Processed_data_nii/BMC/Case12.nii', 'Processed_data_nii/BMC/Case12_Segmentation.nii', 'Processed_data_nii/BMC/Case13.nii', 'Processed_data_nii/BMC/Case13_Segmentation.nii', 'Processed_data_nii/BMC/Case14.nii', 'Processed_data_nii/BMC/Case14_Segmentation.nii', 'Processed_data_nii/BMC/Case15.nii', 'Processed_data_nii/BMC/Case15_Segmentation.nii', 'Processed_data_nii/BMC/Case16.nii', 'Processed_data_nii/BMC/Case16_Segmentation.nii', 'Processed_data_nii/BMC/Case17.nii', 'Processed_data_nii/BMC/Case17_Segmentation.nii', 'Processed_data_nii/BMC/Case18.nii', 'Processed_data_nii/BMC/Case18_Segmentation.nii', 'Processed_data_nii/BMC/Case19.nii', 'Processed_data_nii/BMC/Case19_Segmentation.nii', 'Processed_data_nii/BMC/Case20.nii', 'Processed_data_nii/BMC/Case20_Segmentation.nii', 'Processed_data_nii/BMC/Case21.nii', 'Processed_data_nii/BMC/Case21_Segmentation.nii', 'Processed_data_nii/BMC/Case22.nii', 'Processed_data_nii/BMC/Case22_Segmentation.nii', 'Processed_data_nii/BMC/Case23.nii', 'Processed_data_nii/BMC/Case23_Segmentation.nii', 'Processed_data_nii/BMC/Case24.nii', 'Processed_data_nii/BMC/Case24_Segmentation.nii', 'Processed_data_nii/BMC/Case25.nii', 'Processed_data_nii/BMC/Case25_Segmentation.nii', 'Processed_data_nii/BMC/Case26.nii', 'Processed_data_nii/BMC/Case26_Segmentation.nii', 'Processed_data_nii/BMC/Case27.nii', 'Processed_data_nii/BMC/Case27_Segmentation.nii', 'Processed_data_nii/BMC/Case28.nii', 'Processed_data_nii/BMC/Case28_Segmentation.nii', 'Processed_data_nii/BMC/Case29.nii', 'Processed_data_nii/BMC/Case29_Segmentation.nii', 'Processed_data_nii/HK/Case38.nii', 'Processed_data_nii/HK/Case38_segmentation.nii', 'Processed_data_nii/HK/Case39.nii', 'Processed_data_nii/HK/Case39_segmentation.nii', 'Processed_data_nii/HK/Case40.nii', 'Processed_data_nii/HK/Case40_segmentation.nii', 'Processed_data_nii/HK/Case41.nii', 'Processed_data_nii/HK/Case41_segmentation.nii', 'Processed_data_nii/HK/Case42.nii', 'Processed_data_nii/HK/Case42_segmentation.nii', 'Processed_data_nii/HK/Case43.nii', 'Processed_data_nii/HK/Case43_segmentation.nii', 'Processed_data_nii/HK/Case44.nii', 'Processed_data_nii/HK/Case44_segmentation.nii', 'Processed_data_nii/HK/Case45.nii', 'Processed_data_nii/HK/Case45_segmentation.nii', 'Processed_data_nii/HK/Case46.nii', 'Processed_data_nii/HK/Case46_segmentation.nii', 'Processed_data_nii/HK/Case47.nii', 'Processed_data_nii/HK/Case47_segmentation.nii', 'Processed_data_nii/HK/Case48.nii', 'Processed_data_nii/HK/Case48_segmentation.nii', 'Processed_data_nii/HK/Case49.nii', 'Processed_data_nii/HK/Case49_segmentation.nii', 'Processed_data_nii/I2CVB/Case00.nii', 'Processed_data_nii/I2CVB/Case00_segmentation.nii', 'Processed_data_nii/I2CVB/Case01.nii', 'Processed_data_nii/I2CVB/Case01_segmentation.nii', 'Processed_data_nii/I2CVB/Case02.nii', 'Processed_data_nii/I2CVB/Case02_segmentation.nii', 'Processed_data_nii/I2CVB/Case03.nii', 'Processed_data_nii/I2CVB/Case03_segmentation.nii', 'Processed_data_nii/I2CVB/Case04.nii', 'Processed_data_nii/I2CVB/Case04_segmentation.nii', 'Processed_data_nii/I2CVB/Case05.nii', 'Processed_data_nii/I2CVB/Case05_segmentation.nii', 'Processed_data_nii/I2CVB/Case06.nii', 'Processed_data_nii/I2CVB/Case06_segmentation.nii', 'Processed_data_nii/I2CVB/Case07.nii', 'Processed_data_nii/I2CVB/Case07_segmentation.nii', 'Processed_data_nii/I2CVB/Case08.nii', 'Processed_data_nii/I2CVB/Case08_segmentation.nii', 'Processed_data_nii/I2CVB/Case09.nii', 'Processed_data_nii/I2CVB/Case09_segmentation.nii', 'Processed_data_nii/I2CVB/Case10.nii', 'Processed_data_nii/I2CVB/Case10_segmentation.nii', 'Processed_data_nii/I2CVB/Case11.nii', 'Processed_data_nii/I2CVB/Case11_segmentation.nii', 'Processed_data_nii/I2CVB/Case12.nii', 'Processed_data_nii/I2CVB/Case12_segmentation.nii', 'Processed_data_nii/I2CVB/Case13.nii', 'Processed_data_nii/I2CVB/Case13_segmentation.nii', 'Processed_data_nii/I2CVB/Case14.nii', 'Processed_data_nii/I2CVB/Case14_segmentation.nii', 'Processed_data_nii/I2CVB/Case15.nii', 'Processed_data_nii/I2CVB/Case15_segmentation.nii', 'Processed_data_nii/I2CVB/Case16.nii', 'Processed_data_nii/I2CVB/Case16_segmentation.nii', 'Processed_data_nii/I2CVB/Case17.nii', 'Processed_data_nii/I2CVB/Case17_segmentation.nii', 'Processed_data_nii/I2CVB/Case18.nii', 'Processed_data_nii/I2CVB/Case18_segmentation.nii', 'Processed_data_nii/RUNMC/Case00.nii', 'Processed_data_nii/RUNMC/Case00_segmentation.nii', 'Processed_data_nii/RUNMC/Case01.nii', 'Processed_data_nii/RUNMC/Case01_segmentation.nii', 'Processed_data_nii/RUNMC/Case02.nii', 'Processed_data_nii/RUNMC/Case02_segmentation.nii', 'Processed_data_nii/RUNMC/Case03.nii', 'Processed_data_nii/RUNMC/Case03_segmentation.nii', 'Processed_data_nii/RUNMC/Case04.nii', 'Processed_data_nii/RUNMC/Case04_segmentation.nii', 'Processed_data_nii/RUNMC/Case05.nii', 'Processed_data_nii/RUNMC/Case05_segmentation.nii', 'Processed_data_nii/RUNMC/Case06.nii', 'Processed_data_nii/RUNMC/Case06_segmentation.nii', 'Processed_data_nii/RUNMC/Case07.nii', 'Processed_data_nii/RUNMC/Case07_segmentation.nii', 'Processed_data_nii/RUNMC/Case08.nii', 'Processed_data_nii/RUNMC/Case08_segmentation.nii', 'Processed_data_nii/RUNMC/Case09.nii', 'Processed_data_nii/RUNMC/Case09_segmentation.nii', 'Processed_data_nii/RUNMC/Case10.nii', 'Processed_data_nii/RUNMC/Case10_segmentation.nii', 'Processed_data_nii/RUNMC/Case11.nii', 'Processed_data_nii/RUNMC/Case11_segmentation.nii', 'Processed_data_nii/RUNMC/Case12.nii', 'Processed_data_nii/RUNMC/Case12_segmentation.nii', 'Processed_data_nii/RUNMC/Case13.nii', 'Processed_data_nii/RUNMC/Case13_segmentation.nii', 'Processed_data_nii/RUNMC/Case14.nii', 'Processed_data_nii/RUNMC/Case14_segmentation.nii', 'Processed_data_nii/RUNMC/Case15.nii', 'Processed_data_nii/RUNMC/Case15_segmentation.nii', 'Processed_data_nii/RUNMC/Case16.nii', 'Processed_data_nii/RUNMC/Case16_segmentation.nii', 'Processed_data_nii/RUNMC/Case17.nii', 'Processed_data_nii/RUNMC/Case17_segmentation.nii', 'Processed_data_nii/RUNMC/Case18.nii', 'Processed_data_nii/RUNMC/Case18_segmentation.nii', 'Processed_data_nii/RUNMC/Case19.nii', 'Processed_data_nii/RUNMC/Case19_segmentation.nii', 'Processed_data_nii/RUNMC/Case20.nii', 'Processed_data_nii/RUNMC/Case20_segmentation.nii', 'Processed_data_nii/RUNMC/Case21.nii', 'Processed_data_nii/RUNMC/Case21_segmentation.nii', 'Processed_data_nii/RUNMC/Case22.nii', 'Processed_data_nii/RUNMC/Case22_segmentation.nii', 'Processed_data_nii/RUNMC/Case23.nii', 'Processed_data_nii/RUNMC/Case23_segmentation.nii', 'Processed_data_nii/RUNMC/Case24.nii', 'Processed_data_nii/RUNMC/Case24_segmentation.nii', 'Processed_data_nii/RUNMC/Case25.nii', 'Processed_data_nii/RUNMC/Case25_segmentation.nii', 'Processed_data_nii/RUNMC/Case26.nii', 'Processed_data_nii/RUNMC/Case26_segmentation.nii', 'Processed_data_nii/RUNMC/Case27.nii', 'Processed_data_nii/RUNMC/Case27_segmentation.nii', 'Processed_data_nii/RUNMC/Case28.nii', 'Processed_data_nii/RUNMC/Case28_segmentation.nii', 'Processed_data_nii/RUNMC/Case29.nii', 'Processed_data_nii/RUNMC/Case29_segmentation.nii', 'Processed_data_nii/UCL/Case01.nii', 'Processed_data_nii/UCL/Case01_segmentation.nii', 'Processed_data_nii/UCL/Case26.nii', 'Processed_data_nii/UCL/Case26_segmentation.nii', 'Processed_data_nii/UCL/Case27.nii', 'Processed_data_nii/UCL/Case27_segmentation.nii', 'Processed_data_nii/UCL/Case28.nii', 'Processed_data_nii/UCL/Case28_segmentation.nii', 'Processed_data_nii/UCL/Case29.nii', 'Processed_data_nii/UCL/Case29_segmentation.nii', 'Processed_data_nii/UCL/Case30.nii', 'Processed_data_nii/UCL/Case30_segmentation.nii', 'Processed_data_nii/UCL/Case31.nii', 'Processed_data_nii/UCL/Case31_segmentation.nii', 'Processed_data_nii/UCL/Case32.nii', 'Processed_data_nii/UCL/Case32_segmentation.nii', 'Processed_data_nii/UCL/Case33.nii', 'Processed_data_nii/UCL/Case33_segmentation.nii', 'Processed_data_nii/UCL/Case34.nii', 'Processed_data_nii/UCL/Case34_segmentation.nii', 'Processed_data_nii/UCL/Case35.nii', 'Processed_data_nii/UCL/Case35_segmentation.nii', 'Processed_data_nii/UCL/Case36.nii', 'Processed_data_nii/UCL/Case36_segmentation.nii', 'Processed_data_nii/UCL/Case37.nii', 'Processed_data_nii/UCL/Case37_segmentation.nii']\n",
      "232\n"
     ]
    }
   ],
   "source": [
    "print(nii_files)\n",
    "print(len(nii_files))"
   ]
  },
  {
   "cell_type": "code",
   "execution_count": 97,
   "metadata": {},
   "outputs": [],
   "source": [
    "counter = 0\n",
    "for i in range(0, len(nii_files), 2):\n",
    "    for depth in range(nib.load(nii_files[i]).shape[2]):\n",
    "        if nib.load(nii_files[i+1]).get_fdata()[:, :, depth].max() != 0:\n",
    "            counter += 1\n",
    "            # retrieve the image and mask\n",
    "            img = nib.load(nii_files[i]).get_fdata()[:, :, depth]\n",
    "            msk = nib.load(nii_files[i+1]).get_fdata()[:, :, depth] >= 1\n",
    "            # save image into data/img\n",
    "            plt.imsave(f'./data/img/{counter}.png', img, cmap='gray')\n",
    "            # save mask into data/mask\n",
    "            plt.imsave(f'./data/mask/{counter}.png', msk, cmap='gray')"
   ]
  }
 ],
 "metadata": {
  "kernelspec": {
   "display_name": "Python 3",
   "language": "python",
   "name": "python3"
  },
  "language_info": {
   "codemirror_mode": {
    "name": "ipython",
    "version": 3
   },
   "file_extension": ".py",
   "mimetype": "text/x-python",
   "name": "python",
   "nbconvert_exporter": "python",
   "pygments_lexer": "ipython3",
   "version": "3.10.12"
  }
 },
 "nbformat": 4,
 "nbformat_minor": 2
}
